{
 "cells": [
  {
   "cell_type": "markdown",
   "metadata": {},
   "source": [
    "### 2.9 리스트가 답이 아닐 때\n",
    "- 숫자만 저장하는 경우 배열(```array.array```)이 훨씬 더 효율적이다.\n",
    "- 배열은 C언어의 배열처럼 기계가 사용하는 형태로 표현된 바이트 값만 저장하기 때문이다 (가볍다).\n",
    "- (참고) 리스트의 양쪽 끝에 항목을 추가/삭제 해야할 때는 ```deque```가 더 빠르다."
   ]
  },
  {
   "cell_type": "markdown",
   "metadata": {},
   "source": [
    "#### 2.9.1 배열\n",
    "- 제공하는 메서드: ```pop(), insert(), extend(), frombytes(), tofile()```\n",
    "- 배열 생성시 type을 결정하는 typecode를 지정해야 한다."
   ]
  },
  {
   "cell_type": "code",
   "execution_count": 7,
   "metadata": {},
   "outputs": [
    {
     "data": {
      "text/plain": [
       "0.8576327950796666"
      ]
     },
     "execution_count": 7,
     "metadata": {},
     "output_type": "execute_result"
    }
   ],
   "source": [
    "from array import array\n",
    "from random import random\n",
    "floats = array('d', (random() for i in range(10**7))) # 천만 개\n",
    "# floats[:10]\n",
    "floats[-1]"
   ]
  },
  {
   "cell_type": "code",
   "execution_count": 8,
   "metadata": {},
   "outputs": [
    {
     "data": {
      "text/plain": [
       "0.8576327950796666"
      ]
     },
     "execution_count": 8,
     "metadata": {},
     "output_type": "execute_result"
    }
   ],
   "source": [
    "fp = open('floats.bin', 'wb')\n",
    "floats.tofile(fp)\n",
    "fp.close()\n",
    "\n",
    "floats2 = array('d')\n",
    "fp = open('floats.bin', 'rb') \n",
    "floats2.fromfile(fp, 10**7) # 천만 개 숫자 읽어온다.\n",
    "fp.close()\n",
    "floats2[-1]"
   ]
  },
  {
   "cell_type": "code",
   "execution_count": 9,
   "metadata": {},
   "outputs": [
    {
     "data": {
      "text/plain": [
       "True"
      ]
     },
     "execution_count": 9,
     "metadata": {},
     "output_type": "execute_result"
    }
   ],
   "source": [
    "floats2 == floats"
   ]
  },
  {
   "cell_type": "markdown",
   "metadata": {},
   "source": [
    "- ```array.tofile()```로 만든 이진 파일에서 ```array.fromfile()``` 로 실수 천만개를 로드하는 데 약 0.1초 걸렸다.\n",
    "- float() 내장 함수로 파싱하면서 텍스트 파일에서 숫자를 읽어오는 것보다 약 **60배** 빠르다.\n",
    "- ```array.tofile()``` 은 실수 하나씩 텍스트 파일에 저장하는 것보다 약 **7배** 빠르다.\n",
    "- 이진 파일의 크기: 80,000,000 bytes, 텍스트 파일의 크기: 181,515,739 bytes"
   ]
  },
  {
   "cell_type": "markdown",
   "metadata": {},
   "source": [
    "[TIP] ```pickle``` 모듈의 ```pickle.dump()```를 사용하면 ```array.tofile()```만큼 숫자 데이터를 빠르게 저장하면서 복소수, 내포된 컬렉션, 사용자 정의 객체 등 거의 대부분의 내장 자료형을 처리할 수 있다."
   ]
  },
  {
   "cell_type": "markdown",
   "metadata": {},
   "source": [
    "[표 2-2] 리스트와 배열의 메서드와 속성\n",
    "|메서드|리스트|배열|설명|\n",
    "|:---|:---:|:---:|:---|\n",
    "|```s.__add__(s2)```|v|v|s + s2 -- 연결한다.|\n",
    "|```s.__iadd__(s2)```|v|v|s += s2 -- 연결하고 s에 할당한다.|\n",
    "|```s.append(e)```|v|v|마지막 요소 뒤에 e를 추가한다.|\n",
    "|```s.byteswap()```||v|엔디언 변환을 위해 배열 안의 모든 요소의 바이트 순서를 바꾼다.|\n",
    "|```s.clear()```|v||모든 항목을 삭제한다.|\n",
    "|```s.__contains__(e)```|v|v|e in s|\n",
    "|```s.copy()```|v||리스트를 얕게 복사한다.|\n",
    "|```s.__copy__()```||v|```copy.copy()``` 메서드를 지원한다.|\n",
    "|```s.count(e)```|v||s 안에 e 요소가 발생한 횟수를 반환한다.|\n",
    "|```s.__deepcopy()__```||v|```copy.deepcopy()```를 최적화해서 지원한다.|\n",
    "|```s.__delitem__(p)```|v|v|p 위치의 요소를 삭제한다.|\n",
    "|```s.extend(it)```|v|v|반복형 it에서 요소들을 가져와서 추가한다.|\n",
    "|```s.frombytes(b)```||v|패킹된 기계값으로 해석한 바이트 시퀀스에서 요소를 가져와서 추가한다.|\n",
    "|```s.fromfile(f, n)```||v|패킹된 기계값으로 해석한 이진 파일 f에서 n개의 항목을 가져와서 추가한다.|\n",
    "|```s.fromlist(l)```||v|리스트 l의 요소를 추가한다. TypeErro가 한 번이라도 발생하면 아무 것도 추가하지 않는다.|\n",
    "|```s.__getitem__(p)```|v|v|s[p] -- p 위치의 항목을 가져온다.\n",
    "|```s.index(e)```|v|v|e가 처음 나타나는 위치를 찾아낸다.|\n",
    "|```s.insert(p, e)```|v|v|p 위치에 있는 항목 앞에 e 요소를 추가한다.|\n",
    "|```s.itemsize```||v|각 배열 항목의 바이트 단위 크기|\n",
    "|```s.__iter__()```|v|v|반복자를 가져온다.|\n",
    "|```s.__len__()```|v|v|len(s) -- 항목 수를 반환한다.|\n",
    "|```s.__mul__(n)```|v|v|s * n -- n회 반복해서 연결한다.|\n",
    "|```s.__imul__(n)```|v|v|s *= n -- n회 반복해서 연결한 후 s에 저장한다.|\n",
    "|```s.__rmul__(n)```|v|v|n * s -- 역순 반복 연결 메서드|\n",
    "|```s.pop([p])```|v|v|p 위치 혹은 제일 마지막 항목을 제거하고 반환한다.|\n",
    "|```s.remove(e)```|v|v|값이 e와 일치하는 항목을 제거한다.|\n",
    "|```s.reverse()```|v|v|항목들의 순서를 역으로 나열해서 다시 s에 저장한다.|\n",
    "|```s.__reversed__()```|v||마지막부터 처음까지 반복하는 반복자를 가져온다.|\n",
    "|```s.__setitem__(p, e)```|v|v|s[p] = e -- p 위치에 e 요소를 저장하고, 기존 값을 덮어쓴다.|\n",
    "|```s.sort([key], [reverse])```|v||선택적인 키워드 key와 reverse에 따라 항목을 정렬하고 s에 저장한다.|\n",
    "|```s.tobytes()```||v|bytes 객체에 패킹된 기계값으로 항목을 반환한다.|\n",
    "|```s.tofile(f)```||v|이진 파일 f에 패킹된 기계값으로 항목을 저장한다.|\n",
    "|```s.tolist()```||v|항목을 수치형 객체로 변환해서 넣은 리스트를 반환한다.|\n",
    "|```s.typecode```||v|항목의 C형을 나타내는 한 글자짜리 문자열|\n"
   ]
  },
  {
   "cell_type": "markdown",
   "metadata": {},
   "source": []
  }
 ],
 "metadata": {
  "interpreter": {
   "hash": "7c61df463fc90a02b1d004a1ae6b6ec506104bddf8f024f5399b6589a3c84d60"
  },
  "kernelspec": {
   "display_name": "Python 3.9.7 ('base')",
   "language": "python",
   "name": "python3"
  },
  "language_info": {
   "codemirror_mode": {
    "name": "ipython",
    "version": 3
   },
   "file_extension": ".py",
   "mimetype": "text/x-python",
   "name": "python",
   "nbconvert_exporter": "python",
   "pygments_lexer": "ipython3",
   "version": "3.9.7"
  },
  "orig_nbformat": 4
 },
 "nbformat": 4,
 "nbformat_minor": 2
}
